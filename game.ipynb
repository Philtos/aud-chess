{
 "cells": [
  {
   "cell_type": "code",
   "execution_count": 1,
   "id": "sealed-bottle",
   "metadata": {
    "scrolled": true
   },
   "outputs": [],
   "source": [
    "// Standard includes\n",
    "#include <iostream>\n",
    "#include <string>\n",
    "#include <algoviz/SVG.hpp>\n",
    "\n",
    "//Clear and init\n",
    "AlgoViz::clear();\n",
    "SVG view = SVG(1024,1024,24,24,\"Chess\");\n",
    "MouseState maus;\n",
    "string taste = \"\";\n",
    "\n",
    "// Our own classes\n",
    "#include \"pos.hpp\"\n",
    "#include \"tile.hpp\"\n",
    "#include \"piece.hpp\"\n",
    "#include \"board.hpp\""
   ]
  },
  {
   "cell_type": "code",
   "execution_count": 2,
   "id": "following-national",
   "metadata": {},
   "outputs": [],
   "source": [
    "Board brett = Board();\n",
    "brett.showLabels();"
   ]
  },
  {
   "cell_type": "code",
   "execution_count": 3,
   "id": "charged-bones",
   "metadata": {},
   "outputs": [],
   "source": [
    "brett.reset();"
   ]
  },
  {
   "cell_type": "code",
   "execution_count": 4,
   "id": "reserved-luxembourg",
   "metadata": {},
   "outputs": [],
   "source": [
    "#include \"loop.hpp\""
   ]
  },
  {
   "cell_type": "code",
   "execution_count": 5,
   "id": "further-constitutional",
   "metadata": {},
   "outputs": [],
   "source": [
    "brett.setOccupied();"
   ]
  },
  {
   "cell_type": "code",
   "execution_count": 6,
   "id": "worthy-compilation",
   "metadata": {},
   "outputs": [],
   "source": [
    "// gameLoop(\"q\");"
   ]
  },
  {
   "cell_type": "code",
   "execution_count": 7,
   "id": "acoustic-solution",
   "metadata": {},
   "outputs": [],
   "source": [
    "delete getPiece(\"C1\");\n",
    "delete getPiece(\"D2\");\n",
    "brett.setOccupied();"
   ]
  },
  {
   "cell_type": "code",
   "execution_count": 8,
   "id": "bearing-reference",
   "metadata": {},
   "outputs": [],
   "source": [
    "moveTo(\"F1\",\"F4\");\n",
    "getPiece(\"F4\") -> lower();"
   ]
  },
  {
   "cell_type": "code",
   "execution_count": 9,
   "id": "therapeutic-burns",
   "metadata": {},
   "outputs": [],
   "source": [
    "getPiece(\"F4\") -> possibleMoves();"
   ]
  },
  {
   "cell_type": "code",
   "execution_count": 10,
   "id": "olympic-large",
   "metadata": {},
   "outputs": [],
   "source": [
    "brett.unmark();"
   ]
  },
  {
   "cell_type": "code",
   "execution_count": null,
   "id": "turned-logan",
   "metadata": {},
   "outputs": [],
   "source": []
  }
 ],
 "metadata": {
  "kernelspec": {
   "display_name": "C++14",
   "language": "C++14",
   "name": "xcpp14"
  },
  "language_info": {
   "codemirror_mode": "text/x-c++src",
   "file_extension": ".cpp",
   "mimetype": "text/x-c++src",
   "name": "c++",
   "version": "14"
  }
 },
 "nbformat": 4,
 "nbformat_minor": 5
}
